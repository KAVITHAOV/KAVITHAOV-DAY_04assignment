{
 "cells": [
  {
   "cell_type": "raw",
   "id": "bcdf93e0",
   "metadata": {},
   "source": [
    "A school has following rules for grading system:\n",
    "a. Below 25 - F\n",
    "b. 25 to 45 - E\n",
    "c. 45 to 50 - D\n",
    "d. 50 to 60 - C\n",
    "e. 60 to 80 - B\n",
    "f. Above 80 - A\n",
    "Ask user to enter marks and print the corresponding grade."
   ]
  },
  {
   "cell_type": "code",
   "execution_count": 2,
   "id": "d2814c06",
   "metadata": {},
   "outputs": [
    {
     "name": "stdout",
     "output_type": "stream",
     "text": [
      "Enter the mark 67\n",
      " B grade\n"
     ]
    }
   ],
   "source": [
    "mark=int(input(\"Enter the mark\"))\n",
    "if mark>=80:\n",
    "    print(\"A grade\")\n",
    "elif mark>=60:\n",
    "    print(\" B grade\")\n",
    "elif mark>=50:\n",
    "    print(\"C grade\")\n",
    "elif mark>=45:\n",
    "    print(\" D grade\")\n",
    "elif mark>=25:\n",
    "    print(\"E grade\")\n",
    "else:\n",
    "    print(\"Fail\")"
   ]
  },
  {
   "cell_type": "raw",
   "id": "e6b3f1ad",
   "metadata": {},
   "source": [
    "You have a list of names.Create a new list which contains only the names with non-repeating characters.\n",
    "Sample input = [‘John’,’Peter’,’Meera’,’Mini’,’Krishna’]\n",
    "Sample output = [‘John’,Krishna]"
   ]
  },
  {
   "cell_type": "code",
   "execution_count": 3,
   "id": "06fbfa86",
   "metadata": {},
   "outputs": [
    {
     "name": "stdout",
     "output_type": "stream",
     "text": [
      "['John', 'Krishna']\n"
     ]
    }
   ],
   "source": [
    "Sample_input = ['John','Peter','Meera','Mini','Krishna']\n",
    "l1=[]\n",
    "l2=[]\n",
    "for i in Sample_input:\n",
    "    for j in range(0,len(i)):\n",
    "        for k in range(j+1,len(i)):\n",
    "            if i[j]==i[k]:\n",
    "                l1.append(i)\n",
    "            \n",
    "for i in Sample_input:\n",
    "    if i not in l1:\n",
    "        l2.append(i)\n",
    "print(l2)\n"
   ]
  },
  {
   "cell_type": "raw",
   "id": "cc9eb8f6",
   "metadata": {},
   "source": [
    "Take values of length and breadth of a rectangle from user and check if it is square or not.\n"
   ]
  },
  {
   "cell_type": "code",
   "execution_count": 4,
   "id": "db9fc0ce",
   "metadata": {},
   "outputs": [
    {
     "name": "stdout",
     "output_type": "stream",
     "text": [
      "Enter the length  5\n",
      "Enter the breadth 9\n",
      "Not a square\n"
     ]
    }
   ],
   "source": [
    "length=int(input(\"Enter the length \"))\n",
    "breadth=int(input(\"Enter the breadth \"))\n",
    "if length==breadth :\n",
    "    print(\" It is a square\")\n",
    "else:\n",
    "    print('Not a square')"
   ]
  },
  {
   "cell_type": "raw",
   "id": "0921950a",
   "metadata": {},
   "source": [
    "A student will not be allowed to sit in exam if his/her attendance is less than 75%. Take following input from user Number of classes held Number of classes attended. And print percentage of class attended Is student is allowed to sit in exam or not."
   ]
  },
  {
   "cell_type": "code",
   "execution_count": 5,
   "id": "08f02470",
   "metadata": {},
   "outputs": [
    {
     "name": "stdout",
     "output_type": "stream",
     "text": [
      "Number of classes held 67\n",
      "Number of classes attended45\n",
      "Attendance is 67.16417910447761\n",
      "Not allowed to sit in Exam\n"
     ]
    }
   ],
   "source": [
    "no_of_class_held=int(input(\"Number of classes held\"))\n",
    "no_of_class_attend=int(input(\"Number of classes attended\"))\n",
    "\n",
    "attended = (no_of_class_attend/no_of_class_held) * 100\n",
    "print(\"Attendance is\",attended)\n",
    "\n",
    "if attended>75:\n",
    "    print(\"Allowed to sit in Exam\")\n",
    "else:\n",
    "    print(\"Not allowed to sit in Exam\")\n",
    "\n",
    " "
   ]
  },
  {
   "cell_type": "raw",
   "id": "48ce16eb",
   "metadata": {},
   "source": [
    "Create a list by taking length of the list and elements of the list from user. Then find the sum of the elements of the list. Also create a new called even list which contains only even numbers from first list and odd list which contains odd numbers from the list.\n",
    "\n",
    "Sample input:\n",
    "Length of the list = 5\n",
    "List1 = [2,6,3,1,5]\n",
    "Sum = 17\n",
    "Even_list=[2,6]\n",
    "Odd_list=[3,1,5]"
   ]
  },
  {
   "cell_type": "code",
   "execution_count": 6,
   "id": "37469ed2",
   "metadata": {},
   "outputs": [
    {
     "name": "stdout",
     "output_type": "stream",
     "text": [
      "Enter the length of the list 5\n",
      "Enter the element of the list 2\n",
      "Enter the element of the list6\n",
      "Enter the element of the list3\n",
      "Enter the element of the list1\n",
      "Enter the element of the list5\n",
      "[2, 6, 3, 1, 5]\n",
      "Sum =  17\n",
      "Even_list= [2, 6]\n",
      "Odd_lists= [3, 1, 5]\n"
     ]
    }
   ],
   "source": [
    "\n",
    "list1 = []\n",
    "n=int(input('Enter the length of the list'))\n",
    "for i in range(1,n+1):\n",
    "    x=int(input('Enter the element of the list'))\n",
    "    list1.append(x)\n",
    "print(list1)\n",
    "\n",
    "#sum\n",
    "s = 0\n",
    "for num in list1:\n",
    "    s= s+num\n",
    "print('Sum = ',s)\n",
    "\n",
    "#even and odd list\n",
    "even_list=[]\n",
    "odd_list=[]\n",
    "\n",
    "for i in list1: \n",
    "    if(i%2==0):\n",
    "        even_list.append(i)\n",
    "            \n",
    "    else: \n",
    "        odd_list.append(i) \n",
    "        \n",
    "print(\"Even_list=\", even_list)\n",
    "print(\"Odd_lists=\", odd_list) \n",
    "  "
   ]
  },
  {
   "cell_type": "raw",
   "id": "fc138c0f",
   "metadata": {},
   "source": [
    "Create a sample chatbot for an ecommerce website"
   ]
  },
  {
   "cell_type": "code",
   "execution_count": 9,
   "id": "c89cd984",
   "metadata": {},
   "outputs": [
    {
     "name": "stdout",
     "output_type": "stream",
     "text": [
      "Welcome to AMAZON\n",
      "Enter Quit to stop  offers\n",
      "Up to 60% off in women cloths \n",
      " Automotive essentials have Up to 60% off \n",
      " Home appliances have Up to 10% off on select cards \n",
      " Up to 60% off in Curated furniture picks for your home \n",
      " Up to 50% off in International brands \n",
      "\n",
      "Enter Quit to stop  furniture\n",
      "You get 10% cashback for your first purchase in furniture items,Please visit www.amazonfurniture.org for more details\n",
      "Enter Quit to stop  no shopping\n",
      "Please use another option\n",
      "Enter Quit to stop quit\n",
      "Vist this page again, Thank you!\n"
     ]
    }
   ],
   "source": [
    "print('Welcome to AMAZON')\n",
    "\n",
    "while True:\n",
    "    x = input('Enter Quit to stop ')\n",
    "    x=x.lower()\n",
    "    if x =='quit':\n",
    "        print('Vist this page again, Thank you!')\n",
    "        break \n",
    "    y = x.split()\n",
    "    if len(y)==0:    \n",
    "        print('Please give a valid input')\n",
    "    elif 'offers' in y:\n",
    "        print('Up to 60% off in women cloths \\n',\n",
    "              'Automotive essentials have Up to 60% off \\n',\n",
    "              'Home appliances have Up to 10% off on select cards \\n',\n",
    "              'Up to 60% off in Curated furniture picks for your home \\n',\n",
    "              'Up to 50% off in International brands \\n')\n",
    "    elif 'cloths'in y:\n",
    "        print('Yes cloths are available.Please visit www.amazoncloths.org for more details')\n",
    "    elif 'Automotive essentials'in y:\n",
    "        print('You get 15% cashback for your first purchase in automotive essentials,Please visit www.amazonessentials.org for more details')\n",
    "    elif 'Home'in y:\n",
    "        print('It is a limit period offer in home appliances , Please visit www.amazonhome.org for more details')\n",
    "    elif 'furniture'in y:\n",
    "        print('You get 10% cashback for your first purchase in furniture items,Please visit www.amazonfurniture.org for more details')\n",
    "    elif 'brands'in y:\n",
    "        print('Yes so many international brands are available, Please visit www.amazoninternational.org for more details')\n",
    "    else:\n",
    "        print('Please use another option')"
   ]
  },
  {
   "cell_type": "raw",
   "id": "88e25d79",
   "metadata": {},
   "source": [
    "Write a program to find the roots of a quadratic equation. Get the co-efficients of quadratic equation ax^2+bx+c and display whether the roots are real and equal or real and distinct or roots are imaginary. You have to find the roots and display it as well"
   ]
  },
  {
   "cell_type": "code",
   "execution_count": 10,
   "id": "9befa0a2",
   "metadata": {},
   "outputs": [
    {
     "name": "stdout",
     "output_type": "stream",
     "text": [
      "Enter a:  1\n",
      "Enter b: 2\n",
      "Enter c: 3\n",
      "The solution are (-1-1.4142135623730951j) and (-1+1.4142135623730951j)\n"
     ]
    }
   ],
   "source": [
    "# import complex math module \n",
    "import cmath  \n",
    "a=float(input('Enter a: '))  \n",
    "b=float(input('Enter b: '))  \n",
    "c=float(input('Enter c: '))  \n",
    "  \n",
    "# calculate the discriminant\n",
    "d=(b**2)-(4*a*c)  \n",
    "  \n",
    "# find two solutions  \n",
    "solution1= (-b-cmath.sqrt(d))/(2*a)  \n",
    "solution2= (-b+cmath.sqrt(d))/(2*a)  \n",
    "print('The solution are {0} and {1}'.format(solution1,solution2))   "
   ]
  },
  {
   "cell_type": "raw",
   "id": "bc83e41d",
   "metadata": {},
   "source": [
    "Given a range of first 10 numbers, write a Python program to iterate from start number to the end number and print the sum of the current number and previous number.\n",
    "\n",
    "Sample input: 1….10\n",
    "Sample output: Current Number 1 Previous Number 0 Sum: 1\n",
    "Current Number 2 Previous Number 1 Sum: 3\n",
    "Current Number 3 Previous Number 2 Sum: 5…\n",
    "…….\n",
    "Current Number 10 Previous Number 9 Sum: 19"
   ]
  },
  {
   "cell_type": "code",
   "execution_count": 11,
   "id": "b3a91958",
   "metadata": {},
   "outputs": [
    {
     "name": "stdout",
     "output_type": "stream",
     "text": [
      "Current Number 0 Previous Number 0 sum:0\n",
      "Current Number 1 Previous Number 0 sum:1\n",
      "Current Number 2 Previous Number 1 sum:3\n",
      "Current Number 3 Previous Number 2 sum:5\n",
      "Current Number 4 Previous Number 3 sum:7\n",
      "Current Number 5 Previous Number 4 sum:9\n",
      "Current Number 6 Previous Number 5 sum:11\n",
      "Current Number 7 Previous Number 6 sum:13\n",
      "Current Number 8 Previous Number 7 sum:15\n",
      "Current Number 9 Previous Number 8 sum:17\n"
     ]
    }
   ],
   "source": [
    "num = list(range(10))\n",
    "previousNum = 0\n",
    "for i in num:\n",
    "    sum = previousNum + i\n",
    "    print('Current Number '   +  str(i)+' Previous Number '  + str(previousNum) + ' sum:' + str(sum)) # <- This is the issue.\n",
    "    previousNum=i"
   ]
  },
  {
   "cell_type": "raw",
   "id": "c64ea81a",
   "metadata": {},
   "source": [
    "Write a Python program to find the prime numbers in a given range. Get the range from user and print prime numbers in that range."
   ]
  },
  {
   "cell_type": "code",
   "execution_count": 12,
   "id": "89ad9982",
   "metadata": {},
   "outputs": [
    {
     "name": "stdout",
     "output_type": "stream",
     "text": [
      "Enter the Lowest Range Value:  1\n",
      "Enter the Upper Range Value: 25\n",
      "The prime numbers in the given range are: \n",
      "2,3,5,7,11,13,17,19,23,"
     ]
    }
   ],
   "source": [
    "lower_value = int(input (\"Enter the Lowest Range Value: \"))  \n",
    "upper_value = int(input (\"Enter the Upper Range Value: \"))  \n",
    "  \n",
    "print (\"The prime numbers in the given range are: \")  \n",
    "for number in range (lower_value, upper_value + 1):  \n",
    "    if number > 1:  \n",
    "        for i in range (2, number):  \n",
    "            if (number % i) == 0:  \n",
    "                break  \n",
    "        else:  \n",
    "            print (number,end=',')  "
   ]
  },
  {
   "cell_type": "raw",
   "id": "3af4da3b",
   "metadata": {},
   "source": [
    "Write a Python program to print Fibonacci series in a given range. Get the range from user and print fibonacci numbers in that range"
   ]
  },
  {
   "cell_type": "code",
   "execution_count": 13,
   "id": "9426e0bb",
   "metadata": {},
   "outputs": [
    {
     "name": "stdout",
     "output_type": "stream",
     "text": [
      "How many terms in the series:  15\n",
      "Fibonacci sequence:\n",
      "0\n",
      "1\n",
      "1\n",
      "2\n",
      "3\n",
      "5\n",
      "8\n",
      "13\n",
      "21\n",
      "34\n",
      "55\n",
      "89\n",
      "144\n",
      "233\n",
      "377\n"
     ]
    }
   ],
   "source": [
    "# Program to display the Fibonacci sequence up to n-th term\n",
    "\n",
    "terms = int(input(\"How many terms in the series: \"))\n",
    "\n",
    "# first two terms\n",
    "n1, n2 = 0, 1\n",
    "count = 0\n",
    "\n",
    "\n",
    "# check if the number of terms is valid\n",
    "if terms <= 0:\n",
    "    print(\"Please enter a positive integer\")\n",
    "    \n",
    "    \n",
    "# if there is only one term, return n1\n",
    "elif terms == 1:\n",
    "    print(\"Fibonacci sequence upto\",terms,\":\")\n",
    "    print(n1)\n",
    "    \n",
    "    \n",
    "# generate fibonacci sequence\n",
    "\n",
    "else:\n",
    "     print(\"Fibonacci sequence:\",)\n",
    "        \n",
    "while count < terms:\n",
    "        print(n1)\n",
    "        nth = n1 + n2\n",
    "       # update values\n",
    "        n1 = n2\n",
    "        n2 = nth\n",
    "        count += 1\n"
   ]
  },
  {
   "cell_type": "code",
   "execution_count": null,
   "id": "71ecf11b",
   "metadata": {},
   "outputs": [],
   "source": []
  }
 ],
 "metadata": {
  "kernelspec": {
   "display_name": "Python 3 (ipykernel)",
   "language": "python",
   "name": "python3"
  },
  "language_info": {
   "codemirror_mode": {
    "name": "ipython",
    "version": 3
   },
   "file_extension": ".py",
   "mimetype": "text/x-python",
   "name": "python",
   "nbconvert_exporter": "python",
   "pygments_lexer": "ipython3",
   "version": "3.9.7"
  }
 },
 "nbformat": 4,
 "nbformat_minor": 5
}
